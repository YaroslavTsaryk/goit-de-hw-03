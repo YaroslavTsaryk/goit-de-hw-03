{
 "cells": [
  {
   "cell_type": "code",
   "execution_count": 2,
   "id": "68179d24",
   "metadata": {},
   "outputs": [],
   "source": [
    "import io\n",
    "import re\n",
    "import os\n",
    "import sys\n",
    "from os import listdir\n",
    "from os.path import isfile, join,isdir\n",
    "\n",
    "os.environ[\"PYSPARK_PYTHON\"] = \"/home/user/anaconda3/bin\"\n",
    "os.environ['PYSPARK_DRIVER_PYTHON']=\"/home/user/anaconda3/bin\"\n",
    "os.environ[\"SPARK_HOME\"] = \"/mnt/e/Data/Tools/apache/spark-3.5.3-bin-hadoop3/\"\n",
    "os.environ[\"PYLIB\"] = os.environ[\"SPARK_HOME\"] + \"/python/lib\"\n",
    "os.environ[\"HADOOP_HOME\"]= \"/mnt/e/Data/Tools/apache/hadoop-3.3.6\"\n",
    "sys.path.insert(0, os.environ[\"SPARK_HOME\"])\n",
    "sys.path.insert(0, os.environ[\"SPARK_HOME\"] +\"/bin\")\n",
    "sys.path.insert(0, os.environ[\"HADOOP_HOME\"] +\"/bin\")\n",
    "sys.path.insert(0, os.environ[\"PYLIB\"] +\"/py4j-0.10.9.7-src.zip\")\n",
    "sys.path.insert(0, os.environ[\"PYLIB\"] +\"/pyspark.zip\")\n"
   ]
  },
  {
   "cell_type": "code",
   "execution_count": 3,
   "id": "4a7322b6-fba5-451f-9d8c-6565ea820dc4",
   "metadata": {},
   "outputs": [
    {
     "name": "stdout",
     "output_type": "stream",
     "text": [
      "Python 3.12.4\n"
     ]
    }
   ],
   "source": [
    "! python --version"
   ]
  },
  {
   "cell_type": "code",
   "execution_count": 4,
   "id": "14fbeeb5",
   "metadata": {
    "scrolled": true
   },
   "outputs": [
    {
     "data": {
      "text/plain": [
       "'/mnt/e/Data/Tools/apache/spark-3.5.3-bin-hadoop3/'"
      ]
     },
     "execution_count": 4,
     "metadata": {},
     "output_type": "execute_result"
    }
   ],
   "source": [
    "import findspark\n",
    "findspark.init()\n",
    "findspark.find()"
   ]
  },
  {
   "cell_type": "code",
   "execution_count": 33,
   "id": "5c15ffc5",
   "metadata": {},
   "outputs": [],
   "source": [
    "import pyspark\n",
    "#from pyspark.sql.types import StructType,StructField, StringType, IntegerType, DateType\n",
    "from pyspark.sql.functions import regexp_extract, col, round\n",
    "from pyspark.sql import SparkSession\n",
    "import random\n"
   ]
  },
  {
   "cell_type": "code",
   "execution_count": 6,
   "id": "3f3bb502",
   "metadata": {},
   "outputs": [],
   "source": [
    "os.environ[\"JAVA_HOME\"]=\"/u01/jdk1.8.0_351/\"\n",
    "os.environ[\"SPARK_LOCAL_IP\"]=\"127.0.0.1\"\n",
    "os.environ[\"HADOOP_OPTS\"] = \"$HADOOP_OPTS -Djava.library.path=$HADOOP_HOME/lib/native\"\n",
    "sys.path.insert(0, os.environ[\"JAVA_HOME\"] +\"/bin\")"
   ]
  },
  {
   "cell_type": "code",
   "execution_count": 7,
   "id": "d9871de2",
   "metadata": {},
   "outputs": [
    {
     "name": "stderr",
     "output_type": "stream",
     "text": [
      "Setting default log level to \"WARN\".\n",
      "To adjust logging level use sc.setLogLevel(newLevel). For SparkR, use setLogLevel(newLevel).\n",
      "24/11/14 23:55:19 WARN NativeCodeLoader: Unable to load native-hadoop library for your platform... using builtin-java classes where applicable\n",
      "24/11/14 23:55:21 WARN Utils: Service 'SparkUI' could not bind on port 4040. Attempting port 4041.\n",
      "24/11/14 23:55:21 WARN Utils: Service 'SparkUI' could not bind on port 4041. Attempting port 4042.\n"
     ]
    }
   ],
   "source": [
    "spark = SparkSession.builder\\\n",
    ".master(\"local[5]\") \\\n",
    ".getOrCreate()"
   ]
  },
  {
   "cell_type": "code",
   "execution_count": 8,
   "id": "da4fb9ce-3952-43fe-be05-a12653f9c07e",
   "metadata": {},
   "outputs": [
    {
     "name": "stderr",
     "output_type": "stream",
     "text": [
      "                                                                                \r"
     ]
    }
   ],
   "source": [
    "usersdf = spark.read.options(delimiter=\",\", sep = \",\", header=True, inferSchema=True,multiline=True, quote=\"\\\"\", escape=\"\\\"\").format(\"csv\").load(\"/mnt/e/tmp/DZ1/users.csv\")\n",
    "purchasesdf = spark.read.options(delimiter=\",\", sep = \",\", header=True, inferSchema=True,multiline=True, quote=\"\\\"\", escape=\"\\\"\").format(\"csv\").load(\"/mnt/e/tmp/DZ1/purchases.csv\")\n",
    "productsdf = spark.read.options(delimiter=\",\", sep = \",\", header=True, inferSchema=True,multiline=True, quote=\"\\\"\", escape=\"\\\"\").format(\"csv\").load(\"/mnt/e/tmp/DZ1/products.csv\")\n"
   ]
  },
  {
   "cell_type": "code",
   "execution_count": 9,
   "id": "d96160d9-410f-4d9c-bf73-10a8ccab7d16",
   "metadata": {},
   "outputs": [
    {
     "name": "stderr",
     "output_type": "stream",
     "text": [
      "24/11/14 23:55:30 WARN SparkStringUtils: Truncated the string representation of a plan since it was too large. This behavior can be adjusted by setting 'spark.sql.debug.maxToStringFields'.\n",
      "                                                                                \r"
     ]
    },
    {
     "name": "stdout",
     "output_type": "stream",
     "text": [
      "+-------+------------------+-------+-----------------+-------------------+\n",
      "|summary|           user_id|   name|              age|              email|\n",
      "+-------+------------------+-------+-----------------+-------------------+\n",
      "|  count|               100|     98|               98|                 99|\n",
      "|   mean|              50.5|   NULL|35.13265306122449|               NULL|\n",
      "| stddev|29.011491975882016|   NULL|9.168117947710689|               NULL|\n",
      "|    min|                 1| User_1|               18|user100@example.com|\n",
      "|    25%|                25|   NULL|               27|               NULL|\n",
      "|    50%|                50|   NULL|               36|               NULL|\n",
      "|    75%|                75|   NULL|               43|               NULL|\n",
      "|    max|               100|User_99|               49|  user9@example.com|\n",
      "+-------+------------------+-------+-----------------+-------------------+\n",
      "\n"
     ]
    }
   ],
   "source": [
    "usersdf.summary().show()"
   ]
  },
  {
   "cell_type": "code",
   "execution_count": 10,
   "id": "380ff442-86a1-41cd-8fa0-2c469a74c326",
   "metadata": {},
   "outputs": [
    {
     "name": "stdout",
     "output_type": "stream",
     "text": [
      "+-------+------------------+-------+-----------------+-------------------+\n",
      "|summary|           user_id|   name|              age|              email|\n",
      "+-------+------------------+-------+-----------------+-------------------+\n",
      "|  count|               100|     98|               98|                 99|\n",
      "|   mean|              50.5|   NULL|35.13265306122449|               NULL|\n",
      "| stddev|29.011491975882016|   NULL|9.168117947710689|               NULL|\n",
      "|    min|                 1| User_1|               18|user100@example.com|\n",
      "|    max|               100|User_99|               49|  user9@example.com|\n",
      "+-------+------------------+-------+-----------------+-------------------+\n",
      "\n"
     ]
    }
   ],
   "source": [
    "usersdf.describe().show()"
   ]
  },
  {
   "cell_type": "code",
   "execution_count": 11,
   "id": "6c4eca0f-5982-46b0-ac25-8c875c6f2d9f",
   "metadata": {},
   "outputs": [],
   "source": [
    "usersdf_clean=usersdf.dropna()\n",
    "purchasesdf_clean=purchasesdf.dropna()\n",
    "productsdf_clean=productsdf.dropna()"
   ]
  },
  {
   "cell_type": "code",
   "execution_count": 12,
   "id": "26fe0842-96ff-44b3-a975-22671d8260c7",
   "metadata": {},
   "outputs": [
    {
     "name": "stdout",
     "output_type": "stream",
     "text": [
      "+-------+------------------+-------+-----------------+-------------------+\n",
      "|summary|           user_id|   name|              age|              email|\n",
      "+-------+------------------+-------+-----------------+-------------------+\n",
      "|  count|                95|     95|               95|                 95|\n",
      "|   mean|              49.6|   NULL|34.96842105263158|               NULL|\n",
      "| stddev|28.691462144686874|   NULL|9.165676759472076|               NULL|\n",
      "|    min|                 1| User_1|               18|user100@example.com|\n",
      "|    max|               100|User_98|               49|  user9@example.com|\n",
      "+-------+------------------+-------+-----------------+-------------------+\n",
      "\n"
     ]
    }
   ],
   "source": [
    "usersdf_clean.describe().show()"
   ]
  },
  {
   "cell_type": "code",
   "execution_count": 13,
   "id": "db94518e-340a-4fc5-9f5b-b05bb47a2509",
   "metadata": {},
   "outputs": [
    {
     "name": "stdout",
     "output_type": "stream",
     "text": [
      "+-------+-------+---+------------------+\n",
      "|user_id|   name|age|             email|\n",
      "+-------+-------+---+------------------+\n",
      "|      1| User_1| 45| user1@example.com|\n",
      "|      2| User_2| 48| user2@example.com|\n",
      "|      3| User_3| 36| user3@example.com|\n",
      "|      4| User_4| 46| user4@example.com|\n",
      "|      5| User_5| 29| user5@example.com|\n",
      "|      6| User_6| 39| user6@example.com|\n",
      "|      7| User_7| 24| user7@example.com|\n",
      "|      8| User_8| 44| user8@example.com|\n",
      "|      9| User_9| 27| user9@example.com|\n",
      "|     10|User_10| 43|user10@example.com|\n",
      "|     11|User_11| 36|user11@example.com|\n",
      "|     12|User_12| 24|user12@example.com|\n",
      "|     13|User_13| 47|user13@example.com|\n",
      "|     14|User_14| 20|user14@example.com|\n",
      "|     15|User_15| 30|user15@example.com|\n",
      "|     16|User_16| 30|user16@example.com|\n",
      "|     17|User_17| 35|user17@example.com|\n",
      "|     18|User_18| 45|user18@example.com|\n",
      "|     19|User_19| 47|user19@example.com|\n",
      "|     20|User_20| 43|user20@example.com|\n",
      "+-------+-------+---+------------------+\n",
      "only showing top 20 rows\n",
      "\n"
     ]
    }
   ],
   "source": [
    "usersdf_clean.show()"
   ]
  },
  {
   "cell_type": "code",
   "execution_count": 14,
   "id": "a52f1c06-6f08-4361-b119-49a7f6532eae",
   "metadata": {},
   "outputs": [
    {
     "name": "stdout",
     "output_type": "stream",
     "text": [
      "+-----------+-------+----------+----------+--------+\n",
      "|purchase_id|user_id|product_id|      date|quantity|\n",
      "+-----------+-------+----------+----------+--------+\n",
      "|          1|     52|         9|2022-01-01|       1|\n",
      "|          2|     93|        37|2022-01-02|       8|\n",
      "|          3|     15|        33|2022-01-03|       1|\n",
      "|          4|     72|        42|2022-01-04|       9|\n",
      "|          5|     61|        44|2022-01-05|       6|\n",
      "|          6|     21|        24|2022-01-06|       7|\n",
      "|          7|     83|        15|2022-01-07|       7|\n",
      "|          8|     87|        32|2022-01-08|       3|\n",
      "|          9|     75|        32|2022-01-09|       2|\n",
      "|         10|     75|        24|2022-01-10|       9|\n",
      "|         11|     88|        41|2022-01-11|       8|\n",
      "|         12|    100|        49|2022-01-12|       7|\n",
      "|         13|     24|        49|2022-01-13|       9|\n",
      "|         14|      3|        12|2022-01-14|       4|\n",
      "|         15|     22|        39|2022-01-15|       4|\n",
      "|         16|     53|         2|2022-01-16|       1|\n",
      "|         17|      2|         3|2022-01-17|       8|\n",
      "|         18|     88|        49|2022-01-18|       3|\n",
      "|         19|     30|        37|2022-01-19|       7|\n",
      "|         20|     38|        49|2022-01-20|       2|\n",
      "+-----------+-------+----------+----------+--------+\n",
      "only showing top 20 rows\n",
      "\n"
     ]
    }
   ],
   "source": [
    "purchasesdf_clean.show()"
   ]
  },
  {
   "cell_type": "code",
   "execution_count": 15,
   "id": "8f7a6783-a5af-4e06-b05e-5a7f1794f9ff",
   "metadata": {},
   "outputs": [
    {
     "name": "stdout",
     "output_type": "stream",
     "text": [
      "+----------+------------+-----------+-----+\n",
      "|product_id|product_name|   category|price|\n",
      "+----------+------------+-----------+-----+\n",
      "|         1|   Product_1|     Beauty|  8.3|\n",
      "|         2|   Product_2|       Home|  8.3|\n",
      "|         3|   Product_3|Electronics|  9.2|\n",
      "|         4|   Product_4|Electronics|  2.6|\n",
      "|         5|   Product_5|Electronics|  9.4|\n",
      "|         6|   Product_6|     Sports|  8.7|\n",
      "|         7|   Product_7|     Beauty|  8.2|\n",
      "|         8|   Product_8|     Sports|  1.0|\n",
      "|         9|   Product_9|     Beauty|  6.0|\n",
      "|        10|  Product_10|     Sports|  5.4|\n",
      "|        11|  Product_11|     Sports|  8.6|\n",
      "|        12|  Product_12|       Home|  1.3|\n",
      "|        13|  Product_13|     Sports|  7.1|\n",
      "|        14|  Product_14|   Clothing|  7.4|\n",
      "|        16|  Product_16|     Sports|  4.3|\n",
      "|        17|  Product_17|Electronics|  8.1|\n",
      "|        18|  Product_18|   Clothing|  4.8|\n",
      "|        19|  Product_19|   Clothing|  3.5|\n",
      "|        20|  Product_20|   Clothing|  4.3|\n",
      "|        21|  Product_21|       Home|  6.3|\n",
      "+----------+------------+-----------+-----+\n",
      "only showing top 20 rows\n",
      "\n"
     ]
    }
   ],
   "source": [
    "productsdf_clean.show()"
   ]
  },
  {
   "cell_type": "code",
   "execution_count": 16,
   "id": "648e46f0-19a7-4640-aa3f-7f71f7d3ca01",
   "metadata": {},
   "outputs": [],
   "source": [
    "prod_purch=purchasesdf_clean.join(productsdf_clean, productsdf_clean.product_id == purchasesdf_clean.product_id)"
   ]
  },
  {
   "cell_type": "code",
   "execution_count": 17,
   "id": "e243e853-bf06-4a00-a8a9-1becc429c780",
   "metadata": {},
   "outputs": [],
   "source": [
    "prod_purch_total=prod_purch.select(['category','price','quantity']).withColumn('total',col('price')*col('quantity')).groupby('category').sum('total')"
   ]
  },
  {
   "cell_type": "code",
   "execution_count": 18,
   "id": "69129581-151d-4d86-b3bc-9e7a379879d0",
   "metadata": {},
   "outputs": [
    {
     "name": "stdout",
     "output_type": "stream",
     "text": [
      "+-----------+------------------+\n",
      "|   category|        sum(total)|\n",
      "+-----------+------------------+\n",
      "|       Home|1523.4999999999998|\n",
      "|     Sports|1802.4999999999998|\n",
      "|Electronics|1174.7999999999997|\n",
      "|   Clothing|             790.3|\n",
      "|     Beauty| 459.8999999999999|\n",
      "+-----------+------------------+\n",
      "\n"
     ]
    }
   ],
   "source": [
    "prod_purch_total.show()"
   ]
  },
  {
   "cell_type": "code",
   "execution_count": 19,
   "id": "c6ed723b-b113-4c54-8711-195164e5239d",
   "metadata": {},
   "outputs": [],
   "source": [
    "prod_purch=prod_purch.withColumn(\"cost\",col(\"price\")*col(\"quantity\"))\n",
    "#select(['category','price','quantity']).groupby('category').sum(col('price')*col('quantity')).show()"
   ]
  },
  {
   "cell_type": "code",
   "execution_count": 20,
   "id": "8e6d1ab8-f336-42d1-8b2c-9c6796c61c2b",
   "metadata": {},
   "outputs": [
    {
     "name": "stdout",
     "output_type": "stream",
     "text": [
      "+-----------+------------------+\n",
      "|   category|         sum(cost)|\n",
      "+-----------+------------------+\n",
      "|       Home|1523.4999999999998|\n",
      "|     Sports|1802.4999999999998|\n",
      "|Electronics|1174.7999999999997|\n",
      "|   Clothing|             790.3|\n",
      "|     Beauty| 459.8999999999999|\n",
      "+-----------+------------------+\n",
      "\n"
     ]
    }
   ],
   "source": [
    "prod_purch.select(['category','cost']).groupby('category').sum('cost').show()"
   ]
  },
  {
   "cell_type": "code",
   "execution_count": 21,
   "id": "39043654-95ce-46ad-b23c-4f60852645c2",
   "metadata": {},
   "outputs": [],
   "source": [
    "users_prod_purch=usersdf_clean.join(prod_purch,usersdf_clean.user_id == prod_purch.user_id)"
   ]
  },
  {
   "cell_type": "code",
   "execution_count": 22,
   "id": "cad81857-c4a6-4f1f-bd74-2aff4445a15c",
   "metadata": {},
   "outputs": [],
   "source": [
    "prod_purch_18_25=users_prod_purch.withColumn(\"cost\",col(\"price\")*col(\"quantity\")).filter((col('Age')>18) & (col('Age')<25))"
   ]
  },
  {
   "cell_type": "code",
   "execution_count": 23,
   "id": "7e13e8cb-7538-4cff-861f-ce9b824fabda",
   "metadata": {},
   "outputs": [
    {
     "name": "stdout",
     "output_type": "stream",
     "text": [
      "+-------+-------+---+------------------+-----------+-------+----------+----------+--------+----------+------------+-----------+-----+------------------+\n",
      "|user_id|   name|age|             email|purchase_id|user_id|product_id|      date|quantity|product_id|product_name|   category|price|              cost|\n",
      "+-------+-------+---+------------------+-----------+-------+----------+----------+--------+----------+------------+-----------+-----+------------------+\n",
      "|     58|User_58| 20|user58@example.com|         27|     58|        37|2022-01-27|       6|        37|  Product_37|   Clothing|  6.0|              36.0|\n",
      "|     91|User_91| 21|user91@example.com|         31|     91|        19|2022-01-31|       6|        19|  Product_19|   Clothing|  3.5|              21.0|\n",
      "|      7| User_7| 24| user7@example.com|         47|      7|        11|2022-02-16|       1|        11|  Product_11|     Sports|  8.6|               8.6|\n",
      "|     73|User_73| 20|user73@example.com|         49|     73|        16|2022-02-18|       3|        16|  Product_16|     Sports|  4.3|12.899999999999999|\n",
      "|     14|User_14| 20|user14@example.com|         55|     14|         3|2022-02-24|       5|         3|   Product_3|Electronics|  9.2|              46.0|\n",
      "|     14|User_14| 20|user14@example.com|         87|     14|         1|2022-03-28|       4|         1|   Product_1|     Beauty|  8.3|              33.2|\n",
      "|     40|User_40| 23|user40@example.com|         95|     40|        35|2022-04-05|       2|        35|  Product_35|     Sports|  7.5|              15.0|\n",
      "|     29|User_29| 20|user29@example.com|        105|     29|        49|2022-04-15|       3|        49|  Product_49|     Sports|  9.7|29.099999999999998|\n",
      "|      7| User_7| 24| user7@example.com|        126|      7|         4|2022-05-06|       5|         4|   Product_4|Electronics|  2.6|              13.0|\n",
      "|     73|User_73| 20|user73@example.com|        127|     73|        33|2022-05-07|       9|        33|  Product_33|       Home|  9.4| 84.60000000000001|\n",
      "|     12|User_12| 24|user12@example.com|        129|     12|        21|2022-05-09|       5|        21|  Product_21|       Home|  6.3|              31.5|\n",
      "|     91|User_91| 21|user91@example.com|        140|     91|        22|2022-05-20|       7|        22|  Product_22|     Sports|  1.2|               8.4|\n",
      "|     27|User_27| 24|user27@example.com|        151|     27|        30|2022-05-31|       9|        30|  Product_30|   Clothing|  5.6|              50.4|\n",
      "|     42|User_42| 23|user42@example.com|        156|     42|         5|2022-06-05|       9|         5|   Product_5|Electronics|  9.4| 84.60000000000001|\n",
      "|     29|User_29| 20|user29@example.com|        168|     29|         6|2022-06-17|       4|         6|   Product_6|     Sports|  8.7|              34.8|\n",
      "|     42|User_42| 23|user42@example.com|        177|     42|        35|2022-06-26|       7|        35|  Product_35|     Sports|  7.5|              52.5|\n",
      "|     57|User_57| 21|user57@example.com|        180|     57|        32|2022-06-29|       1|        32|  Product_32|       Home|  8.8|               8.8|\n",
      "|     27|User_27| 24|user27@example.com|        194|     27|        47|2022-07-13|       4|        47|  Product_47|     Sports|  6.1|              24.4|\n",
      "|     27|User_27| 24|user27@example.com|        200|     27|         2|2022-07-19|       6|         2|   Product_2|       Home|  8.3|49.800000000000004|\n",
      "+-------+-------+---+------------------+-----------+-------+----------+----------+--------+----------+------------+-----------+-----+------------------+\n",
      "\n"
     ]
    }
   ],
   "source": [
    "prod_purch_18_25.show()"
   ]
  },
  {
   "cell_type": "code",
   "execution_count": 24,
   "id": "421e1e68-508d-4af0-b3bb-635055edc655",
   "metadata": {},
   "outputs": [],
   "source": [
    "prod_purch_18_25_total=prod_purch_18_25.select(['category','cost']).groupby('category').sum('cost')"
   ]
  },
  {
   "cell_type": "code",
   "execution_count": 25,
   "id": "2b876776-f02d-4271-bc4b-dc69618f9317",
   "metadata": {},
   "outputs": [
    {
     "name": "stdout",
     "output_type": "stream",
     "text": [
      "+-----------+------------------+\n",
      "|   category|         sum(cost)|\n",
      "+-----------+------------------+\n",
      "|       Home|174.70000000000002|\n",
      "|     Sports|185.70000000000002|\n",
      "|Electronics|143.60000000000002|\n",
      "|   Clothing|             107.4|\n",
      "|     Beauty|              33.2|\n",
      "+-----------+------------------+\n",
      "\n"
     ]
    }
   ],
   "source": [
    "prod_purch_18_25_total.show()"
   ]
  },
  {
   "cell_type": "code",
   "execution_count": 26,
   "id": "7dda7959-d3d0-4c07-a8a1-451a3419be68",
   "metadata": {},
   "outputs": [],
   "source": [
    "prod_purch_18_25_total=prod_purch_18_25_total.withColumnRenamed('sum(cost)','y_total')"
   ]
  },
  {
   "cell_type": "code",
   "execution_count": 27,
   "id": "40d3ada7-42df-4d7e-9c99-0c47dbdb62d4",
   "metadata": {},
   "outputs": [],
   "source": [
    "prod_purch_total=prod_purch_total.withColumnRenamed('sum(total)','total').withColumnRenamed('category','category1')"
   ]
  },
  {
   "cell_type": "code",
   "execution_count": 28,
   "id": "902d9f2a-912f-4252-b921-e89acffec12a",
   "metadata": {},
   "outputs": [],
   "source": [
    "differ_df=prod_purch_18_25_total.join(prod_purch_total,prod_purch_18_25_total.category==prod_purch_total.category1)"
   ]
  },
  {
   "cell_type": "code",
   "execution_count": 29,
   "id": "d4e321d1-45df-441b-aab5-b3210e1e0ec4",
   "metadata": {},
   "outputs": [
    {
     "name": "stdout",
     "output_type": "stream",
     "text": [
      "+-----------+------------------+-----------+------------------+\n",
      "|   category|           y_total|  category1|             total|\n",
      "+-----------+------------------+-----------+------------------+\n",
      "|       Home|174.70000000000002|       Home|1523.4999999999998|\n",
      "|     Sports|185.70000000000002|     Sports|1802.4999999999998|\n",
      "|Electronics|143.60000000000002|Electronics|1174.7999999999997|\n",
      "|   Clothing|             107.4|   Clothing|             790.3|\n",
      "|     Beauty|              33.2|     Beauty| 459.8999999999999|\n",
      "+-----------+------------------+-----------+------------------+\n",
      "\n"
     ]
    }
   ],
   "source": [
    "differ_df.show()"
   ]
  },
  {
   "cell_type": "code",
   "execution_count": 31,
   "id": "dd9f47bb-5191-4e36-b40c-74a8299fdddb",
   "metadata": {},
   "outputs": [],
   "source": [
    "differ_df=differ_df.withColumn('part',col('y_total')/col('total')).drop(prod_purch_total.category1)"
   ]
  },
  {
   "cell_type": "code",
   "execution_count": 34,
   "id": "542d35f1-e2e4-4d79-9bb7-0c7af72cbc2b",
   "metadata": {},
   "outputs": [],
   "source": [
    "differ_df=differ_df.withColumn('part',round(differ_df.part,2))"
   ]
  },
  {
   "cell_type": "code",
   "execution_count": 35,
   "id": "1ab55046-7798-4f11-a197-23e285525b7e",
   "metadata": {},
   "outputs": [
    {
     "name": "stdout",
     "output_type": "stream",
     "text": [
      "+-----------+------------------+------------------+----+\n",
      "|   category|           y_total|             total|part|\n",
      "+-----------+------------------+------------------+----+\n",
      "|       Home|174.70000000000002|1523.4999999999998|0.11|\n",
      "|     Sports|185.70000000000002|1802.4999999999998| 0.1|\n",
      "|Electronics|143.60000000000002|1174.7999999999997|0.12|\n",
      "|   Clothing|             107.4|             790.3|0.14|\n",
      "|     Beauty|              33.2| 459.8999999999999|0.07|\n",
      "+-----------+------------------+------------------+----+\n",
      "\n"
     ]
    }
   ],
   "source": [
    "differ_df.show()"
   ]
  },
  {
   "cell_type": "code",
   "execution_count": 36,
   "id": "d69204ef-e9a5-4e10-9f67-87f0f9a7a2e5",
   "metadata": {},
   "outputs": [
    {
     "name": "stdout",
     "output_type": "stream",
     "text": [
      "+-----------+----+\n",
      "|   category|part|\n",
      "+-----------+----+\n",
      "|   Clothing|0.14|\n",
      "|Electronics|0.12|\n",
      "|       Home|0.11|\n",
      "+-----------+----+\n",
      "\n"
     ]
    }
   ],
   "source": [
    "differ_df.orderBy(col('part').desc()).select('category','part').limit(3).show()"
   ]
  },
  {
   "cell_type": "code",
   "execution_count": null,
   "id": "2adcd2c6-929d-4b8c-9ffd-1c87917ce3cd",
   "metadata": {},
   "outputs": [],
   "source": []
  },
  {
   "cell_type": "code",
   "execution_count": null,
   "id": "4c7a186b-500d-4781-8b58-043736b71e46",
   "metadata": {},
   "outputs": [],
   "source": []
  },
  {
   "cell_type": "code",
   "execution_count": null,
   "id": "476bf5c5-13d8-4219-9e96-68514d8adfa7",
   "metadata": {},
   "outputs": [],
   "source": []
  },
  {
   "cell_type": "code",
   "execution_count": null,
   "id": "107ab188-9fed-4f07-b6aa-3c60fdb24828",
   "metadata": {},
   "outputs": [],
   "source": []
  },
  {
   "cell_type": "code",
   "execution_count": null,
   "id": "f75c4a5e-6bb0-4782-8154-8c83686ddfb5",
   "metadata": {},
   "outputs": [],
   "source": []
  },
  {
   "cell_type": "code",
   "execution_count": null,
   "id": "87006cf5",
   "metadata": {},
   "outputs": [],
   "source": []
  }
 ],
 "metadata": {
  "kernelspec": {
   "display_name": "Python 3 (ipykernel)",
   "language": "python",
   "name": "python3"
  },
  "language_info": {
   "codemirror_mode": {
    "name": "ipython",
    "version": 3
   },
   "file_extension": ".py",
   "mimetype": "text/x-python",
   "name": "python",
   "nbconvert_exporter": "python",
   "pygments_lexer": "ipython3",
   "version": "3.12.4"
  }
 },
 "nbformat": 4,
 "nbformat_minor": 5
}
